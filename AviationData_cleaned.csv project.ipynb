{
 "cells": [
  {
   "cell_type": "markdown",
   "id": "f498b35f",
   "metadata": {},
   "source": [
    "#### AVIATION RISK ANALYSIS"
   ]
  },
  {
   "cell_type": "markdown",
   "id": "9da094a6",
   "metadata": {},
   "source": [
    "PROJECT OVERVIEW\n",
    "Our company is planning to invest in the aviation industry by purchasing aircraft for both commercial and private use.Since we don’t have experience in this sector, we need to understand the potential risks involved with different types of aircraft.\n",
    "\n",
    " I therefore analyzed aviation accident data from the National Transportation Safety Board (NTSB), covering the years 1962 to 2023. The goal of this analysis is to identify which aircraft categories are safer based on historical incidents, and to make recommendations on which ones are better suited for our first investment."
   ]
  },
  {
   "cell_type": "markdown",
   "id": "68f41bbc",
   "metadata": {},
   "source": [
    "BUSINESS OBJECTIVES\n",
    "Before making any purchases, the company needs to know which types have lower accident rates. This will help us reduce risk and make better decisions in the new market.\n",
    "\n",
    "I have been able to:\n",
    "- Look at key safety factors like injuries, fatalities, and aircraft damage,\n",
    "- Compared different types of aircraft to see which ones are the safest,\n",
    "- Highlighted important trends and created visualizations that support business recommendations."
   ]
  },
  {
   "cell_type": "markdown",
   "id": "fa9bf8a8",
   "metadata": {},
   "source": [
    "IMPORT PANDAS AND LOAD THE DATASET\n"
   ]
  },
  {
   "cell_type": "code",
   "execution_count": 60,
   "id": "cc991f84",
   "metadata": {},
   "outputs": [],
   "source": [
    "#import pandas\n",
    "import pandas as pd"
   ]
  },
  {
   "cell_type": "code",
   "execution_count": 61,
   "id": "1b0a97fd",
   "metadata": {},
   "outputs": [],
   "source": [
    "#load the dataset\n",
    "df = pd.read_csv('AviationData.csv', encoding='latin1', low_memory=False)\n"
   ]
  },
  {
   "cell_type": "code",
   "execution_count": 62,
   "id": "4271407a",
   "metadata": {},
   "outputs": [
    {
     "data": {
      "text/html": [
       "<div>\n",
       "<style scoped>\n",
       "    .dataframe tbody tr th:only-of-type {\n",
       "        vertical-align: middle;\n",
       "    }\n",
       "\n",
       "    .dataframe tbody tr th {\n",
       "        vertical-align: top;\n",
       "    }\n",
       "\n",
       "    .dataframe thead th {\n",
       "        text-align: right;\n",
       "    }\n",
       "</style>\n",
       "<table border=\"1\" class=\"dataframe\">\n",
       "  <thead>\n",
       "    <tr style=\"text-align: right;\">\n",
       "      <th></th>\n",
       "      <th>Event.Id</th>\n",
       "      <th>Investigation.Type</th>\n",
       "      <th>Accident.Number</th>\n",
       "      <th>Event.Date</th>\n",
       "      <th>Location</th>\n",
       "      <th>Country</th>\n",
       "      <th>Latitude</th>\n",
       "      <th>Longitude</th>\n",
       "      <th>Airport.Code</th>\n",
       "      <th>Airport.Name</th>\n",
       "      <th>...</th>\n",
       "      <th>Purpose.of.flight</th>\n",
       "      <th>Air.carrier</th>\n",
       "      <th>Total.Fatal.Injuries</th>\n",
       "      <th>Total.Serious.Injuries</th>\n",
       "      <th>Total.Minor.Injuries</th>\n",
       "      <th>Total.Uninjured</th>\n",
       "      <th>Weather.Condition</th>\n",
       "      <th>Broad.phase.of.flight</th>\n",
       "      <th>Report.Status</th>\n",
       "      <th>Publication.Date</th>\n",
       "    </tr>\n",
       "  </thead>\n",
       "  <tbody>\n",
       "    <tr>\n",
       "      <th>0</th>\n",
       "      <td>20001218X45444</td>\n",
       "      <td>Accident</td>\n",
       "      <td>SEA87LA080</td>\n",
       "      <td>1948-10-24</td>\n",
       "      <td>MOOSE CREEK, ID</td>\n",
       "      <td>United States</td>\n",
       "      <td>NaN</td>\n",
       "      <td>NaN</td>\n",
       "      <td>NaN</td>\n",
       "      <td>NaN</td>\n",
       "      <td>...</td>\n",
       "      <td>Personal</td>\n",
       "      <td>NaN</td>\n",
       "      <td>2.0</td>\n",
       "      <td>0.0</td>\n",
       "      <td>0.0</td>\n",
       "      <td>0.0</td>\n",
       "      <td>UNK</td>\n",
       "      <td>Cruise</td>\n",
       "      <td>Probable Cause</td>\n",
       "      <td>NaN</td>\n",
       "    </tr>\n",
       "    <tr>\n",
       "      <th>1</th>\n",
       "      <td>20001218X45447</td>\n",
       "      <td>Accident</td>\n",
       "      <td>LAX94LA336</td>\n",
       "      <td>1962-07-19</td>\n",
       "      <td>BRIDGEPORT, CA</td>\n",
       "      <td>United States</td>\n",
       "      <td>NaN</td>\n",
       "      <td>NaN</td>\n",
       "      <td>NaN</td>\n",
       "      <td>NaN</td>\n",
       "      <td>...</td>\n",
       "      <td>Personal</td>\n",
       "      <td>NaN</td>\n",
       "      <td>4.0</td>\n",
       "      <td>0.0</td>\n",
       "      <td>0.0</td>\n",
       "      <td>0.0</td>\n",
       "      <td>UNK</td>\n",
       "      <td>Unknown</td>\n",
       "      <td>Probable Cause</td>\n",
       "      <td>19-09-1996</td>\n",
       "    </tr>\n",
       "    <tr>\n",
       "      <th>2</th>\n",
       "      <td>20061025X01555</td>\n",
       "      <td>Accident</td>\n",
       "      <td>NYC07LA005</td>\n",
       "      <td>1974-08-30</td>\n",
       "      <td>Saltville, VA</td>\n",
       "      <td>United States</td>\n",
       "      <td>36.922223</td>\n",
       "      <td>-81.878056</td>\n",
       "      <td>NaN</td>\n",
       "      <td>NaN</td>\n",
       "      <td>...</td>\n",
       "      <td>Personal</td>\n",
       "      <td>NaN</td>\n",
       "      <td>3.0</td>\n",
       "      <td>NaN</td>\n",
       "      <td>NaN</td>\n",
       "      <td>NaN</td>\n",
       "      <td>IMC</td>\n",
       "      <td>Cruise</td>\n",
       "      <td>Probable Cause</td>\n",
       "      <td>26-02-2007</td>\n",
       "    </tr>\n",
       "    <tr>\n",
       "      <th>3</th>\n",
       "      <td>20001218X45448</td>\n",
       "      <td>Accident</td>\n",
       "      <td>LAX96LA321</td>\n",
       "      <td>1977-06-19</td>\n",
       "      <td>EUREKA, CA</td>\n",
       "      <td>United States</td>\n",
       "      <td>NaN</td>\n",
       "      <td>NaN</td>\n",
       "      <td>NaN</td>\n",
       "      <td>NaN</td>\n",
       "      <td>...</td>\n",
       "      <td>Personal</td>\n",
       "      <td>NaN</td>\n",
       "      <td>2.0</td>\n",
       "      <td>0.0</td>\n",
       "      <td>0.0</td>\n",
       "      <td>0.0</td>\n",
       "      <td>IMC</td>\n",
       "      <td>Cruise</td>\n",
       "      <td>Probable Cause</td>\n",
       "      <td>12-09-2000</td>\n",
       "    </tr>\n",
       "    <tr>\n",
       "      <th>4</th>\n",
       "      <td>20041105X01764</td>\n",
       "      <td>Accident</td>\n",
       "      <td>CHI79FA064</td>\n",
       "      <td>1979-08-02</td>\n",
       "      <td>Canton, OH</td>\n",
       "      <td>United States</td>\n",
       "      <td>NaN</td>\n",
       "      <td>NaN</td>\n",
       "      <td>NaN</td>\n",
       "      <td>NaN</td>\n",
       "      <td>...</td>\n",
       "      <td>Personal</td>\n",
       "      <td>NaN</td>\n",
       "      <td>1.0</td>\n",
       "      <td>2.0</td>\n",
       "      <td>NaN</td>\n",
       "      <td>0.0</td>\n",
       "      <td>VMC</td>\n",
       "      <td>Approach</td>\n",
       "      <td>Probable Cause</td>\n",
       "      <td>16-04-1980</td>\n",
       "    </tr>\n",
       "  </tbody>\n",
       "</table>\n",
       "<p>5 rows × 31 columns</p>\n",
       "</div>"
      ],
      "text/plain": [
       "         Event.Id Investigation.Type Accident.Number  Event.Date  \\\n",
       "0  20001218X45444           Accident      SEA87LA080  1948-10-24   \n",
       "1  20001218X45447           Accident      LAX94LA336  1962-07-19   \n",
       "2  20061025X01555           Accident      NYC07LA005  1974-08-30   \n",
       "3  20001218X45448           Accident      LAX96LA321  1977-06-19   \n",
       "4  20041105X01764           Accident      CHI79FA064  1979-08-02   \n",
       "\n",
       "          Location        Country   Latitude   Longitude Airport.Code  \\\n",
       "0  MOOSE CREEK, ID  United States        NaN         NaN          NaN   \n",
       "1   BRIDGEPORT, CA  United States        NaN         NaN          NaN   \n",
       "2    Saltville, VA  United States  36.922223  -81.878056          NaN   \n",
       "3       EUREKA, CA  United States        NaN         NaN          NaN   \n",
       "4       Canton, OH  United States        NaN         NaN          NaN   \n",
       "\n",
       "  Airport.Name  ... Purpose.of.flight Air.carrier Total.Fatal.Injuries  \\\n",
       "0          NaN  ...          Personal         NaN                  2.0   \n",
       "1          NaN  ...          Personal         NaN                  4.0   \n",
       "2          NaN  ...          Personal         NaN                  3.0   \n",
       "3          NaN  ...          Personal         NaN                  2.0   \n",
       "4          NaN  ...          Personal         NaN                  1.0   \n",
       "\n",
       "  Total.Serious.Injuries Total.Minor.Injuries Total.Uninjured  \\\n",
       "0                    0.0                  0.0             0.0   \n",
       "1                    0.0                  0.0             0.0   \n",
       "2                    NaN                  NaN             NaN   \n",
       "3                    0.0                  0.0             0.0   \n",
       "4                    2.0                  NaN             0.0   \n",
       "\n",
       "  Weather.Condition  Broad.phase.of.flight   Report.Status Publication.Date  \n",
       "0               UNK                 Cruise  Probable Cause              NaN  \n",
       "1               UNK                Unknown  Probable Cause       19-09-1996  \n",
       "2               IMC                 Cruise  Probable Cause       26-02-2007  \n",
       "3               IMC                 Cruise  Probable Cause       12-09-2000  \n",
       "4               VMC               Approach  Probable Cause       16-04-1980  \n",
       "\n",
       "[5 rows x 31 columns]"
      ]
     },
     "execution_count": 62,
     "metadata": {},
     "output_type": "execute_result"
    }
   ],
   "source": [
    "#show the first few rows of the dataset\n",
    "df.head()"
   ]
  },
  {
   "cell_type": "markdown",
   "id": "dc115113",
   "metadata": {},
   "source": [
    "CHECK THE STRUCTURE OF THE DATASET\n",
    "\n",
    "Before starting the analysis, I want to see the structure of the dataset i.e how many rows and columns it has, what types of data are in each column, and whether there are any missing values that I need to handle."
   ]
  },
  {
   "cell_type": "markdown",
   "id": "b2b4fdaf",
   "metadata": {},
   "source": [
    "CHECK THE DATASET INFO"
   ]
  },
  {
   "cell_type": "code",
   "execution_count": 63,
   "id": "7371092e",
   "metadata": {},
   "outputs": [
    {
     "name": "stdout",
     "output_type": "stream",
     "text": [
      "<class 'pandas.core.frame.DataFrame'>\n",
      "RangeIndex: 88889 entries, 0 to 88888\n",
      "Data columns (total 31 columns):\n",
      " #   Column                  Non-Null Count  Dtype  \n",
      "---  ------                  --------------  -----  \n",
      " 0   Event.Id                88889 non-null  object \n",
      " 1   Investigation.Type      88889 non-null  object \n",
      " 2   Accident.Number         88889 non-null  object \n",
      " 3   Event.Date              88889 non-null  object \n",
      " 4   Location                88837 non-null  object \n",
      " 5   Country                 88663 non-null  object \n",
      " 6   Latitude                34382 non-null  object \n",
      " 7   Longitude               34373 non-null  object \n",
      " 8   Airport.Code            50132 non-null  object \n",
      " 9   Airport.Name            52704 non-null  object \n",
      " 10  Injury.Severity         87889 non-null  object \n",
      " 11  Aircraft.damage         85695 non-null  object \n",
      " 12  Aircraft.Category       32287 non-null  object \n",
      " 13  Registration.Number     87507 non-null  object \n",
      " 14  Make                    88826 non-null  object \n",
      " 15  Model                   88797 non-null  object \n",
      " 16  Amateur.Built           88787 non-null  object \n",
      " 17  Number.of.Engines       82805 non-null  float64\n",
      " 18  Engine.Type             81793 non-null  object \n",
      " 19  FAR.Description         32023 non-null  object \n",
      " 20  Schedule                12582 non-null  object \n",
      " 21  Purpose.of.flight       82697 non-null  object \n",
      " 22  Air.carrier             16648 non-null  object \n",
      " 23  Total.Fatal.Injuries    77488 non-null  float64\n",
      " 24  Total.Serious.Injuries  76379 non-null  float64\n",
      " 25  Total.Minor.Injuries    76956 non-null  float64\n",
      " 26  Total.Uninjured         82977 non-null  float64\n",
      " 27  Weather.Condition       84397 non-null  object \n",
      " 28  Broad.phase.of.flight   61724 non-null  object \n",
      " 29  Report.Status           82505 non-null  object \n",
      " 30  Publication.Date        75118 non-null  object \n",
      "dtypes: float64(5), object(26)\n",
      "memory usage: 21.0+ MB\n"
     ]
    }
   ],
   "source": [
    "#check the structure of the dataset\n",
    "df.info()"
   ]
  },
  {
   "cell_type": "markdown",
   "id": "d52432fb",
   "metadata": {},
   "source": [
    "COUNT THE MISSING VALUES\n"
   ]
  },
  {
   "cell_type": "code",
   "execution_count": 64,
   "id": "6c043bf8",
   "metadata": {},
   "outputs": [
    {
     "name": "stderr",
     "output_type": "stream",
     "text": [
      "C:\\Users\\USER\\AppData\\Local\\Temp\\ipykernel_17652\\20935894.py:2: DtypeWarning: Columns (6,7,28) have mixed types. Specify dtype option on import or set low_memory=False.\n",
      "  df = pd.read_csv('AviationData.csv', encoding='latin1')\n"
     ]
    },
    {
     "data": {
      "text/plain": [
       "Schedule                  76307\n",
       "Air.carrier               72241\n",
       "FAR.Description           56866\n",
       "Aircraft.Category         56602\n",
       "Longitude                 54516\n",
       "Latitude                  54507\n",
       "Airport.Code              38757\n",
       "Airport.Name              36185\n",
       "Broad.phase.of.flight     27165\n",
       "Publication.Date          13771\n",
       "Total.Serious.Injuries    12510\n",
       "Total.Minor.Injuries      11933\n",
       "Total.Fatal.Injuries      11401\n",
       "Engine.Type                7096\n",
       "Report.Status              6384\n",
       "Purpose.of.flight          6192\n",
       "Number.of.Engines          6084\n",
       "Total.Uninjured            5912\n",
       "Weather.Condition          4492\n",
       "Aircraft.damage            3194\n",
       "Registration.Number        1382\n",
       "Injury.Severity            1000\n",
       "Country                     226\n",
       "Amateur.Built               102\n",
       "Model                        92\n",
       "Make                         63\n",
       "Location                     52\n",
       "Accident.Number               0\n",
       "Investigation.Type            0\n",
       "Event.Id                      0\n",
       "Event.Date                    0\n",
       "dtype: int64"
      ]
     },
     "execution_count": 64,
     "metadata": {},
     "output_type": "execute_result"
    }
   ],
   "source": [
    "# count the missing value in each column\n",
    "df = pd.read_csv('AviationData.csv', encoding='latin1')\n",
    "df.isnull().sum().sort_values(ascending=False)"
   ]
  },
  {
   "cell_type": "markdown",
   "id": "15678a66",
   "metadata": {},
   "source": [
    "SUMMARY OF WHAT I FOUND\n",
    "\n",
    "From the output above:\n",
    "- There are a lot of missing values in some columns (e.g., \"Weather_Condition\", \"Total_Serious_Injuries\", etc.)\n",
    "- Some columns may not be useful for analysis, depending on how complete or relevant the data is.\n",
    "- I will need to clean the data by either removing or filling in missing values, and selecting only the columns that help answer the main business question (which aircraft are safest).\n",
    "\n",
    "Next, I’ll start cleaning and preparing the data for analysis.\n"
   ]
  },
  {
   "cell_type": "markdown",
   "id": "0fdb0435",
   "metadata": {},
   "source": [
    "CLEANING THE DTASET"
   ]
  },
  {
   "cell_type": "markdown",
   "id": "5453ef22",
   "metadata": {},
   "source": [
    "Some columns in the dataset aren’t helpful for my analysis, mostly because they have too many missing values or don’t relate to aircraft risk. I’ll start by dropping those.\n",
    "\n",
    "For injury columns like \"Total.Fatal.Injuries\", \"Total.Minor.Injuries\", \"Total.Serious.Injuries\", and \"Total.Uninjured\", I’m going to fill any missing values with 0. This is because if the injury field was left blank, it probably means no injuries were reported.\n",
    "\n",
    "I’m also keeping important columns like \"Aircraft.damage\", \"Aircraft.Category\", and \"Weather.Condition\", even though they have some missing data ."
   ]
  },
  {
   "cell_type": "code",
   "execution_count": 65,
   "id": "e4b14b57",
   "metadata": {},
   "outputs": [
    {
     "data": {
      "text/plain": [
       "['Aircraft.Category',\n",
       " 'Broad.phase.of.flight',\n",
       " 'Total.Fatal.Injuries',\n",
       " 'Make',\n",
       " 'Model',\n",
       " 'Event.Id',\n",
       " 'Event.Date',\n",
       " 'Injury.Severity',\n",
       " 'Total.Serious.Injuries']"
      ]
     },
     "execution_count": 65,
     "metadata": {},
     "output_type": "execute_result"
    }
   ],
   "source": [
    "#create columns needed\n",
    "columns_needed = ['Aircraft.Category', 'Broad.phase.of.flight', 'Total.Fatal.Injuries' , 'Make' , 'Model' , 'Event.Id' , 'Event.Date' , 'Injury.Severity' , 'Total.Serious.Injuries']\n",
    "columns_needed"
   ]
  },
  {
   "cell_type": "code",
   "execution_count": 66,
   "id": "34cc39df",
   "metadata": {},
   "outputs": [
    {
     "data": {
      "text/html": [
       "<div>\n",
       "<style scoped>\n",
       "    .dataframe tbody tr th:only-of-type {\n",
       "        vertical-align: middle;\n",
       "    }\n",
       "\n",
       "    .dataframe tbody tr th {\n",
       "        vertical-align: top;\n",
       "    }\n",
       "\n",
       "    .dataframe thead th {\n",
       "        text-align: right;\n",
       "    }\n",
       "</style>\n",
       "<table border=\"1\" class=\"dataframe\">\n",
       "  <thead>\n",
       "    <tr style=\"text-align: right;\">\n",
       "      <th></th>\n",
       "      <th>Aircraft.Category</th>\n",
       "      <th>Broad.phase.of.flight</th>\n",
       "      <th>Total.Fatal.Injuries</th>\n",
       "      <th>Make</th>\n",
       "      <th>Model</th>\n",
       "      <th>Event.Id</th>\n",
       "      <th>Event.Date</th>\n",
       "      <th>Injury.Severity</th>\n",
       "      <th>Total.Serious.Injuries</th>\n",
       "    </tr>\n",
       "  </thead>\n",
       "  <tbody>\n",
       "    <tr>\n",
       "      <th>0</th>\n",
       "      <td>NaN</td>\n",
       "      <td>Cruise</td>\n",
       "      <td>2.0</td>\n",
       "      <td>Stinson</td>\n",
       "      <td>108-3</td>\n",
       "      <td>20001218X45444</td>\n",
       "      <td>1948-10-24</td>\n",
       "      <td>Fatal(2)</td>\n",
       "      <td>0.0</td>\n",
       "    </tr>\n",
       "    <tr>\n",
       "      <th>1</th>\n",
       "      <td>NaN</td>\n",
       "      <td>Unknown</td>\n",
       "      <td>4.0</td>\n",
       "      <td>Piper</td>\n",
       "      <td>PA24-180</td>\n",
       "      <td>20001218X45447</td>\n",
       "      <td>1962-07-19</td>\n",
       "      <td>Fatal(4)</td>\n",
       "      <td>0.0</td>\n",
       "    </tr>\n",
       "    <tr>\n",
       "      <th>2</th>\n",
       "      <td>NaN</td>\n",
       "      <td>Cruise</td>\n",
       "      <td>3.0</td>\n",
       "      <td>Cessna</td>\n",
       "      <td>172M</td>\n",
       "      <td>20061025X01555</td>\n",
       "      <td>1974-08-30</td>\n",
       "      <td>Fatal(3)</td>\n",
       "      <td>NaN</td>\n",
       "    </tr>\n",
       "    <tr>\n",
       "      <th>3</th>\n",
       "      <td>NaN</td>\n",
       "      <td>Cruise</td>\n",
       "      <td>2.0</td>\n",
       "      <td>Rockwell</td>\n",
       "      <td>112</td>\n",
       "      <td>20001218X45448</td>\n",
       "      <td>1977-06-19</td>\n",
       "      <td>Fatal(2)</td>\n",
       "      <td>0.0</td>\n",
       "    </tr>\n",
       "    <tr>\n",
       "      <th>4</th>\n",
       "      <td>NaN</td>\n",
       "      <td>Approach</td>\n",
       "      <td>1.0</td>\n",
       "      <td>Cessna</td>\n",
       "      <td>501</td>\n",
       "      <td>20041105X01764</td>\n",
       "      <td>1979-08-02</td>\n",
       "      <td>Fatal(1)</td>\n",
       "      <td>2.0</td>\n",
       "    </tr>\n",
       "    <tr>\n",
       "      <th>...</th>\n",
       "      <td>...</td>\n",
       "      <td>...</td>\n",
       "      <td>...</td>\n",
       "      <td>...</td>\n",
       "      <td>...</td>\n",
       "      <td>...</td>\n",
       "      <td>...</td>\n",
       "      <td>...</td>\n",
       "      <td>...</td>\n",
       "    </tr>\n",
       "    <tr>\n",
       "      <th>88884</th>\n",
       "      <td>NaN</td>\n",
       "      <td>NaN</td>\n",
       "      <td>0.0</td>\n",
       "      <td>PIPER</td>\n",
       "      <td>PA-28-151</td>\n",
       "      <td>20221227106491</td>\n",
       "      <td>2022-12-26</td>\n",
       "      <td>Minor</td>\n",
       "      <td>1.0</td>\n",
       "    </tr>\n",
       "    <tr>\n",
       "      <th>88885</th>\n",
       "      <td>NaN</td>\n",
       "      <td>NaN</td>\n",
       "      <td>0.0</td>\n",
       "      <td>BELLANCA</td>\n",
       "      <td>7ECA</td>\n",
       "      <td>20221227106494</td>\n",
       "      <td>2022-12-26</td>\n",
       "      <td>NaN</td>\n",
       "      <td>0.0</td>\n",
       "    </tr>\n",
       "    <tr>\n",
       "      <th>88886</th>\n",
       "      <td>Airplane</td>\n",
       "      <td>NaN</td>\n",
       "      <td>0.0</td>\n",
       "      <td>AMERICAN CHAMPION AIRCRAFT</td>\n",
       "      <td>8GCBC</td>\n",
       "      <td>20221227106497</td>\n",
       "      <td>2022-12-26</td>\n",
       "      <td>Non-Fatal</td>\n",
       "      <td>0.0</td>\n",
       "    </tr>\n",
       "    <tr>\n",
       "      <th>88887</th>\n",
       "      <td>NaN</td>\n",
       "      <td>NaN</td>\n",
       "      <td>0.0</td>\n",
       "      <td>CESSNA</td>\n",
       "      <td>210N</td>\n",
       "      <td>20221227106498</td>\n",
       "      <td>2022-12-26</td>\n",
       "      <td>NaN</td>\n",
       "      <td>0.0</td>\n",
       "    </tr>\n",
       "    <tr>\n",
       "      <th>88888</th>\n",
       "      <td>NaN</td>\n",
       "      <td>NaN</td>\n",
       "      <td>0.0</td>\n",
       "      <td>PIPER</td>\n",
       "      <td>PA-24-260</td>\n",
       "      <td>20221230106513</td>\n",
       "      <td>2022-12-29</td>\n",
       "      <td>Minor</td>\n",
       "      <td>1.0</td>\n",
       "    </tr>\n",
       "  </tbody>\n",
       "</table>\n",
       "<p>88889 rows × 9 columns</p>\n",
       "</div>"
      ],
      "text/plain": [
       "      Aircraft.Category Broad.phase.of.flight  Total.Fatal.Injuries  \\\n",
       "0                   NaN                Cruise                   2.0   \n",
       "1                   NaN               Unknown                   4.0   \n",
       "2                   NaN                Cruise                   3.0   \n",
       "3                   NaN                Cruise                   2.0   \n",
       "4                   NaN              Approach                   1.0   \n",
       "...                 ...                   ...                   ...   \n",
       "88884               NaN                   NaN                   0.0   \n",
       "88885               NaN                   NaN                   0.0   \n",
       "88886          Airplane                   NaN                   0.0   \n",
       "88887               NaN                   NaN                   0.0   \n",
       "88888               NaN                   NaN                   0.0   \n",
       "\n",
       "                             Make      Model        Event.Id  Event.Date  \\\n",
       "0                         Stinson      108-3  20001218X45444  1948-10-24   \n",
       "1                           Piper   PA24-180  20001218X45447  1962-07-19   \n",
       "2                          Cessna       172M  20061025X01555  1974-08-30   \n",
       "3                        Rockwell        112  20001218X45448  1977-06-19   \n",
       "4                          Cessna        501  20041105X01764  1979-08-02   \n",
       "...                           ...        ...             ...         ...   \n",
       "88884                       PIPER  PA-28-151  20221227106491  2022-12-26   \n",
       "88885                    BELLANCA       7ECA  20221227106494  2022-12-26   \n",
       "88886  AMERICAN CHAMPION AIRCRAFT      8GCBC  20221227106497  2022-12-26   \n",
       "88887                      CESSNA       210N  20221227106498  2022-12-26   \n",
       "88888                       PIPER  PA-24-260  20221230106513  2022-12-29   \n",
       "\n",
       "      Injury.Severity  Total.Serious.Injuries  \n",
       "0            Fatal(2)                     0.0  \n",
       "1            Fatal(4)                     0.0  \n",
       "2            Fatal(3)                     NaN  \n",
       "3            Fatal(2)                     0.0  \n",
       "4            Fatal(1)                     2.0  \n",
       "...               ...                     ...  \n",
       "88884           Minor                     1.0  \n",
       "88885             NaN                     0.0  \n",
       "88886       Non-Fatal                     0.0  \n",
       "88887             NaN                     0.0  \n",
       "88888           Minor                     1.0  \n",
       "\n",
       "[88889 rows x 9 columns]"
      ]
     },
     "execution_count": 66,
     "metadata": {},
     "output_type": "execute_result"
    }
   ],
   "source": [
    "\n",
    "df = df[columns_needed].copy()\n",
    "df"
   ]
  },
  {
   "cell_type": "markdown",
   "id": "91a628b4",
   "metadata": {},
   "source": [
    "HANDLING MISSING DATA"
   ]
  },
  {
   "cell_type": "code",
   "execution_count": 67,
   "id": "03203282",
   "metadata": {},
   "outputs": [
    {
     "data": {
      "text/plain": [
       "Aircraft.Category         56602\n",
       "Broad.phase.of.flight     27165\n",
       "Total.Fatal.Injuries      11401\n",
       "Make                         63\n",
       "Model                        92\n",
       "Event.Id                      0\n",
       "Event.Date                    0\n",
       "Injury.Severity            1000\n",
       "Total.Serious.Injuries    12510\n",
       "dtype: int64"
      ]
     },
     "execution_count": 67,
     "metadata": {},
     "output_type": "execute_result"
    }
   ],
   "source": [
    "#check the sum of missing values\n",
    "df.isnull().sum()"
   ]
  },
  {
   "cell_type": "markdown",
   "id": "091d40d5",
   "metadata": {},
   "source": [
    "HANDLING MISSING CATEGORICAL DATA"
   ]
  },
  {
   "cell_type": "code",
   "execution_count": 68,
   "id": "7ce670af",
   "metadata": {},
   "outputs": [
    {
     "data": {
      "text/plain": [
       "Broad.phase.of.flight\n",
       "NaN            27165\n",
       "Landing        15428\n",
       "Takeoff        12493\n",
       "Cruise         10269\n",
       "Maneuvering     8144\n",
       "Approach        6546\n",
       "Climb           2034\n",
       "Taxi            1958\n",
       "Descent         1887\n",
       "Go-around       1353\n",
       "Standing         945\n",
       "Unknown          548\n",
       "Other            119\n",
       "Name: count, dtype: int64"
      ]
     },
     "execution_count": 68,
     "metadata": {},
     "output_type": "execute_result"
    }
   ],
   "source": [
    "#check for unique values in broad phase flight column\n",
    "df['Broad.phase.of.flight'].value_counts(dropna=False)"
   ]
  },
  {
   "cell_type": "code",
   "execution_count": 69,
   "id": "36ac63ae",
   "metadata": {},
   "outputs": [
    {
     "data": {
      "text/plain": [
       "0           Cruise\n",
       "1          Unknown\n",
       "2           Cruise\n",
       "3           Cruise\n",
       "4         Approach\n",
       "           ...    \n",
       "88884    not known\n",
       "88885    not known\n",
       "88886    not known\n",
       "88887    not known\n",
       "88888    not known\n",
       "Name: Broad.phase.of.flight, Length: 88889, dtype: object"
      ]
     },
     "execution_count": 69,
     "metadata": {},
     "output_type": "execute_result"
    }
   ],
   "source": [
    "#filling missing rows with a new category \"not known\"\n",
    "df['Broad.phase.of.flight']= df['Broad.phase.of.flight'].fillna('not known')\n",
    "df['Broad.phase.of.flight']\n"
   ]
  },
  {
   "cell_type": "markdown",
   "id": "69d86099",
   "metadata": {},
   "source": [
    "HANDLING NUMERICAL DATA"
   ]
  },
  {
   "cell_type": "code",
   "execution_count": 70,
   "id": "f7f71cdd",
   "metadata": {},
   "outputs": [
    {
     "name": "stderr",
     "output_type": "stream",
     "text": [
      "C:\\Users\\USER\\AppData\\Local\\Temp\\ipykernel_17652\\4105927042.py:1: FutureWarning: A value is trying to be set on a copy of a DataFrame or Series through chained assignment using an inplace method.\n",
      "The behavior will change in pandas 3.0. This inplace method will never work because the intermediate object on which we are setting values always behaves as a copy.\n",
      "\n",
      "For example, when doing 'df[col].method(value, inplace=True)', try using 'df.method({col: value}, inplace=True)' or df[col] = df[col].method(value) instead, to perform the operation inplace on the original object.\n",
      "\n",
      "\n",
      "  df['Total.Fatal.Injuries'].fillna(0,inplace=True)\n",
      "C:\\Users\\USER\\AppData\\Local\\Temp\\ipykernel_17652\\4105927042.py:2: FutureWarning: A value is trying to be set on a copy of a DataFrame or Series through chained assignment using an inplace method.\n",
      "The behavior will change in pandas 3.0. This inplace method will never work because the intermediate object on which we are setting values always behaves as a copy.\n",
      "\n",
      "For example, when doing 'df[col].method(value, inplace=True)', try using 'df.method({col: value}, inplace=True)' or df[col] = df[col].method(value) instead, to perform the operation inplace on the original object.\n",
      "\n",
      "\n",
      "  df['Total.Serious.Injuries'].fillna(0,inplace=True)\n",
      "C:\\Users\\USER\\AppData\\Local\\Temp\\ipykernel_17652\\4105927042.py:3: FutureWarning: A value is trying to be set on a copy of a DataFrame or Series through chained assignment using an inplace method.\n",
      "The behavior will change in pandas 3.0. This inplace method will never work because the intermediate object on which we are setting values always behaves as a copy.\n",
      "\n",
      "For example, when doing 'df[col].method(value, inplace=True)', try using 'df.method({col: value}, inplace=True)' or df[col] = df[col].method(value) instead, to perform the operation inplace on the original object.\n",
      "\n",
      "\n",
      "  df['Injury.Severity'].fillna(0,inplace=True)\n"
     ]
    }
   ],
   "source": [
    "df['Total.Fatal.Injuries'].fillna(0,inplace=True)\n",
    "df['Total.Serious.Injuries'].fillna(0,inplace=True)\n",
    "df['Injury.Severity'].fillna(0,inplace=True)\n"
   ]
  },
  {
   "cell_type": "code",
   "execution_count": null,
   "id": "f6c9be48",
   "metadata": {},
   "outputs": [],
   "source": []
  },
  {
   "cell_type": "markdown",
   "id": "1863ea41",
   "metadata": {},
   "source": [
    "REMOVE THE WHITESPACES\n",
    "Some columns in the dataset may contain extra spaces either at the beginning or end of the text.\n",
    "\n",
    "To fix this, I’ll remove white spaces from:\n",
    "- All column names\n",
    "- All string (object) values in the dataset"
   ]
  },
  {
   "cell_type": "code",
   "execution_count": 71,
   "id": "72a83435",
   "metadata": {},
   "outputs": [],
   "source": [
    "# Remove leading spaces from column names\n",
    "df.columns = df.columns.str.strip()\n",
    "\n",
    "# Remove spaces from text entries in all object (string) columns\n",
    "for col in df.select_dtypes(include='object').columns:\n",
    "    df[col] = df[col].str.strip()"
   ]
  },
  {
   "cell_type": "code",
   "execution_count": 72,
   "id": "1c786155",
   "metadata": {},
   "outputs": [],
   "source": [
    "df.dropna(subset=['Make', 'Model', 'Aircraft.Category', ], how='any', inplace=True)"
   ]
  },
  {
   "cell_type": "markdown",
   "id": "381658aa",
   "metadata": {},
   "source": [
    "CONFIRM IF THE DATASET IS WORKING"
   ]
  },
  {
   "cell_type": "code",
   "execution_count": 73,
   "id": "6b0582a0",
   "metadata": {},
   "outputs": [
    {
     "data": {
      "text/plain": [
       "Injury.Severity           882\n",
       "Aircraft.Category           0\n",
       "Broad.phase.of.flight       0\n",
       "Make                        0\n",
       "Total.Fatal.Injuries        0\n",
       "Model                       0\n",
       "Event.Id                    0\n",
       "Event.Date                  0\n",
       "Total.Serious.Injuries      0\n",
       "dtype: int64"
      ]
     },
     "execution_count": 73,
     "metadata": {},
     "output_type": "execute_result"
    }
   ],
   "source": [
    "# Check again for missing values after cleaning\n",
    "df.isnull().sum().sort_values(ascending=False)"
   ]
  },
  {
   "cell_type": "markdown",
   "id": "29090414",
   "metadata": {},
   "source": [
    "CHECK ON WHAT IS LEFT"
   ]
  },
  {
   "cell_type": "code",
   "execution_count": 74,
   "id": "66b86730",
   "metadata": {},
   "outputs": [
    {
     "data": {
      "text/html": [
       "<div>\n",
       "<style scoped>\n",
       "    .dataframe tbody tr th:only-of-type {\n",
       "        vertical-align: middle;\n",
       "    }\n",
       "\n",
       "    .dataframe tbody tr th {\n",
       "        vertical-align: top;\n",
       "    }\n",
       "\n",
       "    .dataframe thead th {\n",
       "        text-align: right;\n",
       "    }\n",
       "</style>\n",
       "<table border=\"1\" class=\"dataframe\">\n",
       "  <thead>\n",
       "    <tr style=\"text-align: right;\">\n",
       "      <th></th>\n",
       "      <th>Aircraft.Category</th>\n",
       "      <th>Broad.phase.of.flight</th>\n",
       "      <th>Total.Fatal.Injuries</th>\n",
       "      <th>Make</th>\n",
       "      <th>Model</th>\n",
       "      <th>Event.Id</th>\n",
       "      <th>Event.Date</th>\n",
       "      <th>Injury.Severity</th>\n",
       "      <th>Total.Serious.Injuries</th>\n",
       "    </tr>\n",
       "  </thead>\n",
       "  <tbody>\n",
       "    <tr>\n",
       "      <th>5</th>\n",
       "      <td>Airplane</td>\n",
       "      <td>Climb</td>\n",
       "      <td>0.0</td>\n",
       "      <td>Mcdonnell Douglas</td>\n",
       "      <td>DC9</td>\n",
       "      <td>20170710X52551</td>\n",
       "      <td>1979-09-17</td>\n",
       "      <td>Non-Fatal</td>\n",
       "      <td>0.0</td>\n",
       "    </tr>\n",
       "    <tr>\n",
       "      <th>7</th>\n",
       "      <td>Airplane</td>\n",
       "      <td>Takeoff</td>\n",
       "      <td>0.0</td>\n",
       "      <td>Cessna</td>\n",
       "      <td>140</td>\n",
       "      <td>20020909X01562</td>\n",
       "      <td>1982-01-01</td>\n",
       "      <td>Non-Fatal</td>\n",
       "      <td>0.0</td>\n",
       "    </tr>\n",
       "    <tr>\n",
       "      <th>8</th>\n",
       "      <td>Airplane</td>\n",
       "      <td>Landing</td>\n",
       "      <td>0.0</td>\n",
       "      <td>Cessna</td>\n",
       "      <td>401B</td>\n",
       "      <td>20020909X01561</td>\n",
       "      <td>1982-01-01</td>\n",
       "      <td>Non-Fatal</td>\n",
       "      <td>0.0</td>\n",
       "    </tr>\n",
       "    <tr>\n",
       "      <th>12</th>\n",
       "      <td>Airplane</td>\n",
       "      <td>Cruise</td>\n",
       "      <td>0.0</td>\n",
       "      <td>Bellanca</td>\n",
       "      <td>17-30A</td>\n",
       "      <td>20020917X02148</td>\n",
       "      <td>1982-01-02</td>\n",
       "      <td>Non-Fatal</td>\n",
       "      <td>0.0</td>\n",
       "    </tr>\n",
       "    <tr>\n",
       "      <th>13</th>\n",
       "      <td>Airplane</td>\n",
       "      <td>Takeoff</td>\n",
       "      <td>1.0</td>\n",
       "      <td>Cessna</td>\n",
       "      <td>R172K</td>\n",
       "      <td>20020917X02134</td>\n",
       "      <td>1982-01-02</td>\n",
       "      <td>Fatal(1)</td>\n",
       "      <td>0.0</td>\n",
       "    </tr>\n",
       "  </tbody>\n",
       "</table>\n",
       "</div>"
      ],
      "text/plain": [
       "   Aircraft.Category Broad.phase.of.flight  Total.Fatal.Injuries  \\\n",
       "5           Airplane                 Climb                   0.0   \n",
       "7           Airplane               Takeoff                   0.0   \n",
       "8           Airplane               Landing                   0.0   \n",
       "12          Airplane                Cruise                   0.0   \n",
       "13          Airplane               Takeoff                   1.0   \n",
       "\n",
       "                 Make   Model        Event.Id  Event.Date Injury.Severity  \\\n",
       "5   Mcdonnell Douglas     DC9  20170710X52551  1979-09-17       Non-Fatal   \n",
       "7              Cessna     140  20020909X01562  1982-01-01       Non-Fatal   \n",
       "8              Cessna    401B  20020909X01561  1982-01-01       Non-Fatal   \n",
       "12           Bellanca  17-30A  20020917X02148  1982-01-02       Non-Fatal   \n",
       "13             Cessna   R172K  20020917X02134  1982-01-02        Fatal(1)   \n",
       "\n",
       "    Total.Serious.Injuries  \n",
       "5                      0.0  \n",
       "7                      0.0  \n",
       "8                      0.0  \n",
       "12                     0.0  \n",
       "13                     0.0  "
      ]
     },
     "execution_count": 74,
     "metadata": {},
     "output_type": "execute_result"
    }
   ],
   "source": [
    "df.head()"
   ]
  },
  {
   "cell_type": "markdown",
   "id": "b90b7420",
   "metadata": {},
   "source": [
    "ANALYSIS OF PATTERNS IN THE DATASET\n",
    "\n",
    "I will start looking for patterns that will help me understand which aircraft are more risky than others.\n",
    "\n",
    "I’ll begin by checking the total number of accidents by aircraft category. Then I’ll look at how many fatalities are linked to each category.\n"
   ]
  },
  {
   "cell_type": "code",
   "execution_count": 75,
   "id": "4cdde2c9",
   "metadata": {},
   "outputs": [
    {
     "data": {
      "text/plain": [
       "Aircraft.Category\n",
       "Airplane             27580\n",
       "Helicopter            3435\n",
       "Glider                 508\n",
       "Balloon                231\n",
       "Gyrocraft              173\n",
       "Weight-Shift           161\n",
       "Powered Parachute       91\n",
       "Ultralight              30\n",
       "Unknown                 14\n",
       "WSFT                     9\n",
       "Powered-Lift             5\n",
       "Blimp                    4\n",
       "UNK                      2\n",
       "Rocket                   1\n",
       "ULTR                     1\n",
       "Name: count, dtype: int64"
      ]
     },
     "execution_count": 75,
     "metadata": {},
     "output_type": "execute_result"
    }
   ],
   "source": [
    "# Count how many accidents occurred for each aircraft category\n",
    "df['Aircraft.Category'].value_counts()"
   ]
  },
  {
   "cell_type": "markdown",
   "id": "2b4ffcbd",
   "metadata": {},
   "source": [
    "VISUALISATIONS"
   ]
  },
  {
   "cell_type": "markdown",
   "id": "ec50bec3",
   "metadata": {},
   "source": [
    "ACCIDENTSBY PHASE OF FLIGHT"
   ]
  },
  {
   "cell_type": "code",
   "execution_count": 76,
   "id": "87efeede",
   "metadata": {},
   "outputs": [
    {
     "data": {
      "text/plain": [
       "<function matplotlib.pyplot.show(close=None, block=None)>"
      ]
     },
     "execution_count": 76,
     "metadata": {},
     "output_type": "execute_result"
    },
    {
     "data": {
      "image/png": "[encoded data removed]",
      "text/plain": [
       "<Figure size 1000x600 with 1 Axes>"
      ]
     },
     "metadata": {},
     "output_type": "display_data"
    }
   ],
   "source": [
    "#check the accidents by phase of flight\n",
    "#this is to identify the riskiest phases\n",
    "import matplotlib.pyplot as plt\n",
    "import seaborn as sns\n",
    "plt.figure(figsize=(10,6))\n",
    "sns.countplot(data=df , y= 'Broad.phase.of.flight' , order=df['Broad.phase.of.flight'].value_counts().index)\n",
    "plt.title('Accidents by phase of flight')\n",
    "plt.xlabel('Count')\n",
    "plt.ylabel('Phase of flight')\n",
    "plt.tight_layout()\n",
    "plt.show"
   ]
  },
  {
   "cell_type": "markdown",
   "id": "f08a53a2",
   "metadata": {},
   "source": [
    "The Landing and Takeoff phases show the highest number of accidents.\n",
    "\n",
    "Approach and Climb may also appear to be risky.\n",
    "\n",
    "The Cruise phase has fewer accidents since it’s a more stable phase of flight.\n",
    "\n",
    "Maneuvering may show moderate frequency, associated with small aircraft and training flights.\n",
    "\n"
   ]
  },
  {
   "cell_type": "markdown",
   "id": "716abe62",
   "metadata": {},
   "source": [
    "AIRCRAFT MODELS BY ACCIDENT COUNT"
   ]
  },
  {
   "cell_type": "code",
   "execution_count": 77,
   "id": "8356fc42",
   "metadata": {},
   "outputs": [
    {
     "data": {
      "image/png": "[encoded data removed]",
      "text/plain": [
       "<Figure size 1200x600 with 1 Axes>"
      ]
     },
     "metadata": {},
     "output_type": "display_data"
    }
   ],
   "source": [
    "#check the top 10 aircraft models with most accidents\n",
    "plt.figure(figsize= (12,6))\n",
    "top_models = df['Model'].value_counts().head(10)\n",
    "sns.barplot(x=top_models.values, y=top_models.index)\n",
    "plt.title('Top 10 Aircraft Models by Accident Count', fontsize=14)\n",
    "plt.xlabel('Number of Accidents' , fontsize = 12)\n",
    "plt.ylabel('Aircraft Model' , fontsize = 12)\n",
    "plt.tight_layout()\n",
    "plt.show()"
   ]
  },
  {
   "cell_type": "markdown",
   "id": "f946beb4",
   "metadata": {},
   "source": [
    "Certain models have higher accident counts because they are more flown.\n",
    "\n",
    "Examples include Cessna 172, Piper PA-28, or Beechcraft models, which are widely used in general aviation .\n",
    "\n",
    "High accident numbers don’t always mean the aircraft is unsafe—it may reflect higher usage.\n",
    "\n"
   ]
  },
  {
   "cell_type": "markdown",
   "id": "a2ff4d3b",
   "metadata": {},
   "source": [
    "CHECK THE BEHAVIOUR OF ACCIDENTG RATES IF THEY ARE INCREASING OR DECREASING WITH TIME"
   ]
  },
  {
   "cell_type": "code",
   "execution_count": 78,
   "id": "452bfa6c",
   "metadata": {},
   "outputs": [
    {
     "data": {
      "image/png": "[encoded data removed]",
      "text/plain": [
       "<Figure size 1200x600 with 1 Axes>"
      ]
     },
     "metadata": {},
     "output_type": "display_data"
    }
   ],
   "source": [
    "# Convert Event.Date to datetime and extract year\n",
    "df['Event.Date'] = pd.to_datetime(df['Event.Date'], errors='coerce')\n",
    "df['Year'] = df['Event.Date'].dt.year\n",
    "\n",
    "plt.figure(figsize=(12,6))\n",
    "yearly_accidents = df['Year'].value_counts().sort_index()\n",
    "sns.lineplot(x=yearly_accidents.index, y=yearly_accidents.values, marker='o')\n",
    "plt.title('Aviation Accident Trend (1962-2023)', fontsize=14)\n",
    "plt.xlabel('Year', fontsize=12)\n",
    "plt.ylabel('Number of Accidents', fontsize=12)\n",
    "plt.grid(True)\n",
    "plt.tight_layout()\n",
    "plt.show()"
   ]
  },
  {
   "cell_type": "markdown",
   "id": "719eeeba",
   "metadata": {},
   "source": [
    "There's a peak period (in the 1970s or 1980s), followed by a decline.\n",
    "\n",
    "Recent years show fewer reported accidents, possibly due to:\n",
    "\n",
    "Better safety regulations\n",
    "\n",
    "Improved aircraft technology\n",
    "\n",
    "Lower flight volume in certain sectors\n",
    "\n",
    "A small rise or drop in certain years (e.g., during COVID-19) .\n",
    "\n"
   ]
  },
  {
   "cell_type": "markdown",
   "id": "b868f6d2",
   "metadata": {},
   "source": [
    "OVERALL SUMMARY OF THE VISUALISATIONS\n",
    " Phase of Flight\n",
    "Most accidents happen during landing, takeoff, and approach, making these the riskiest parts of a flight.\n",
    "\n",
    "Aircraft Models\n",
    "The models with the most accidents are mostly commonly used planes, especially in private and training flights.\n",
    "\n",
    "Trends Over Time\n",
    "Accidents have decreased steadily over the years, showing that aviation has become safer."
   ]
  },
  {
   "cell_type": "markdown",
   "id": "6a04f629",
   "metadata": {},
   "source": [
    "BUSINESS RECOMMENDATIONS\n",
    "Focus on Safe Flight Phases\n",
    "Since most accidents happen during landing and takeoff, we should invest in training and equipment that improve safety.\n",
    "\n",
    "Choose Reliable Aircraft Models\n",
    "The models with the highest accident numbers are often the most commonly flown. We should pick well-known models that have good safety records.\n",
    "\n",
    "Take Advantage of Modern Safety Trends\n",
    "Accidents have decreased over time, which shows that modern aircraft and newer technologies are safer. We should invest in newer models and avoid old ones.\n"
   ]
  },
  {
   "cell_type": "code",
   "execution_count": 79,
   "id": "4e0ce618",
   "metadata": {},
   "outputs": [],
   "source": [
    "df.to_csv('aviation_analysis_project.csv', index=False)"
   ]
  }
 ],
 "metadata": {
  "kernelspec": {
   "display_name": "Python 3",
   "language": "python",
   "name": "python3"
  },
  "language_info": {
   "codemirror_mode": {
    "name": "ipython",
    "version": 3
   },
   "file_extension": ".py",
   "mimetype": "text/x-python",
   "name": "python",
   "nbconvert_exporter": "python",
   "pygments_lexer": "ipython3",
   "version": "3.11.9"
  }
 },
 "nbformat": 4,
 "nbformat_minor": 5
}
